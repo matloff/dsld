{
 "cells": [
  {
   "cell_type": "markdown",
   "id": "80ed4fdb",
   "metadata": {},
   "source": [
    "#### Examples for graphical methods provided by dsldPy\n",
    "\n",
    "The goal is to make each function call as simple as possible for the users. The following examples of functions are illustrated:\n",
    "\n",
    "1. dsldPyScatterPlot\n",
    "2. dsldFreqParCoord\n",
    "3. dsldPyConditsDisparity\n",
    "3. dsldPyBnLearn\n",
    "5. dsldConfounders / dsldDensityByS"
   ]
  },
  {
   "cell_type": "code",
   "execution_count": null,
   "id": "f1c5d10e",
   "metadata": {},
   "outputs": [],
   "source": [
    "## requires R and the dsld (R) package installed\n",
    "# !pip install dsldPy"
   ]
  },
  {
   "cell_type": "code",
   "execution_count": null,
   "id": "03b32052",
   "metadata": {},
   "outputs": [],
   "source": [
    "# load necessary libraries\n",
    "from dsldPy import (\n",
    "# data reading and preprocessing\n",
    "preprocess_data, read_data,\n",
    "\n",
    "dsldPyScatterPlot3D, dsldPyFreqPCoord, dsldPyConditDisparity, dsldPyConfounders, dsldPyDensitybyS, dsldPyIamb\n",
    ")\n"
   ]
  },
  {
   "cell_type": "code",
   "execution_count": null,
   "id": "953b287e",
   "metadata": {},
   "outputs": [],
   "source": [
    "### data preprocessing\n",
    "\n",
    "### all dsldPy functions require a R data frame object as input (NOT pandas dataframe)\n",
    "### the preprocessing is done by the function preprocess_data\n",
    "### user needs to manually provide the categorical and numerical features (list)\n",
    "### the function preprocess_data returns a R data.frame object -> required input for the dsldPy functions\n",
    "\n",
    "# two datasets\n",
    "# svcensus data\n",
    "#### REPLACE WITH YOUR PATH TO svcensus.RData\n",
    "# df = read_data(\"\") \n",
    "\n",
    "# preprocess data\n",
    "cat_features = ['educ', 'occ', 'gender']\n",
    "num_features= ['age', 'wageinc', 'wkswrkd']\n",
    "svcensus = preprocess_data(df, cat_features, num_features)\n",
    "\n",
    "# compas1 data\n",
    "#### REPLACE WITH YOUR PATH TO compas1.RData\n",
    "# df = read_data(\"\")\n",
    "\n",
    "# preprocess data\n",
    "cat_features = [\"sex\", \"two_year_recid\", \"race\"]\n",
    "num_features = [\"age\",\"juv_fel_count\",\"decile_score\",\"juv_misd_count\",\"juv_other_count\",\"priors_count\",\"c_jail_in\",\"c_jail_out\",\"c_offense_date\",\"screening_date\",\"in_custody\",\"out_custody\"]\n",
    "compas1 = preprocess_data(df, cat_features, num_features)\n"
   ]
  },
  {
   "cell_type": "code",
   "execution_count": null,
   "id": "10d19951",
   "metadata": {},
   "outputs": [],
   "source": [
    "### 1. ------------------------------ dsldPyScatterPlot3D ------------------------------\n",
    "dsldPyScatterPlot3D(data = svcensus, yNames= ['wageinc', 'wkswrkd', 'age'], sName = 'gender')"
   ]
  },
  {
   "cell_type": "code",
   "execution_count": null,
   "id": "ec5edc31",
   "metadata": {},
   "outputs": [],
   "source": [
    "### 2. ------------------------------ dsldPyFreqPCoord ------------------------------\n",
    "dsldPyFreqPCoord(data = compas1, m = 100, sName = 'sex')"
   ]
  },
  {
   "cell_type": "code",
   "execution_count": null,
   "id": "d3c2dc1d",
   "metadata": {},
   "outputs": [],
   "source": [
    "### 3. ------------------------------ dsldPyConditDisparity ------------------------------\n",
    "dsldPyConditDisparity(data = compas1, yName= \"two_year_recid\", sName= \"race\", xName=\"age\", condits=[\"priors_count <= 4\",\"decile_score>=6\"])"
   ]
  },
  {
   "cell_type": "code",
   "execution_count": null,
   "id": "89831a3d",
   "metadata": {},
   "outputs": [],
   "source": [
    "### 4. ------------------------------ dsldPyIamb ------------------------------\n",
    "dsldPyIamb(data = svcensus)"
   ]
  },
  {
   "cell_type": "code",
   "execution_count": null,
   "id": "4e960a57",
   "metadata": {},
   "outputs": [],
   "source": [
    "### 6. ------------------------------ dsldPyConfounders/dsldPyDensitybyS ------------------------------\n",
    "### the plot is shown in a new google/chrome window // all other variables shown\n",
    "dsldPyConfounders(data =svcensus, sName='gender')"
   ]
  },
  {
   "cell_type": "code",
   "execution_count": null,
   "id": "0af77c5a",
   "metadata": {},
   "outputs": [],
   "source": [
    "### if you just want to focus on one specific plot, you can use the dsldPyDensitybyS function \n",
    "### the plot is shown in a new google/chrome window \n",
    "dsldPyDensitybyS(svcensus, cName = 'wageinc', sName='gender')\n"
   ]
  },
  {
   "cell_type": "code",
   "execution_count": null,
   "id": "2eba7dba",
   "metadata": {},
   "outputs": [],
   "source": []
  }
 ],
 "metadata": {
  "kernelspec": {
   "display_name": "dsld",
   "language": "python",
   "name": "python3"
  },
  "language_info": {
   "codemirror_mode": {
    "name": "ipython",
    "version": 3
   },
   "file_extension": ".py",
   "mimetype": "text/x-python",
   "name": "python",
   "nbconvert_exporter": "python",
   "pygments_lexer": "ipython3",
   "version": "3.12.4"
  }
 },
 "nbformat": 4,
 "nbformat_minor": 5
}
