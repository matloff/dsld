{
 "cells": [
  {
   "cell_type": "markdown",
   "id": "81e2b54a",
   "metadata": {},
   "source": [
    "#### Examples for analytical/tabular methods provided by dsldPy\n",
    "\n",
    "The goal is for users to apply analytical/tabular methods with simple, intuitive interface. The following functions are included for python:\n",
    "\n",
    "1. dsldLinear, dsldLogit, and dsldML \n",
    "2. dsldTakeALookAround\n",
    "3. dsldHunting (both C/O hunting functions)\n",
    "4. dsldFrequencybyS  \n",
    "5. dsldMatchedAte"
   ]
  },
  {
   "cell_type": "code",
   "execution_count": null,
   "id": "17972c5f",
   "metadata": {},
   "outputs": [],
   "source": [
    "## requires R and the dsld (R) package installed\n",
    "# !pip install dsldPy"
   ]
  },
  {
   "cell_type": "code",
   "execution_count": null,
   "id": "675ca88a",
   "metadata": {},
   "outputs": [],
   "source": [
    "# Load necessary libraries\n",
    "\n",
    "from dsldPy import (\n",
    "# data reading and preprocessing\n",
    "preprocess_data, read_data,\n",
    "\n",
    "# linear/logistic/ML comparisons\n",
    "dsldPyLinear, dsldPyLinearSummary, dsldPyLinearPredict, dsldPyLinearVcov, dsldPyLinearCoef, dsldPyLinearGetData,\n",
    "dsldPyLogit, dsldPyLogitSummary, dsldPyLogitPredict, dsldPyLogitVcov, dsldPyLogitCoef, dsldPyLogitGetData,\n",
    "dsldPyML,\n",
    "\n",
    "# takeALookAround\n",
    "dsldPyTakeALookAround, \n",
    "\n",
    "# hunting\n",
    "dsldPyCHunting, dsldPyOHunting, \n",
    "\n",
    "# frequency table\n",
    "dsldPyFrequencybyS,\n",
    "\n",
    "# causal inference\n",
    "dsldPyMatchedATE\n",
    ")"
   ]
  },
  {
   "cell_type": "code",
   "execution_count": null,
   "id": "c9c7ac54",
   "metadata": {},
   "outputs": [],
   "source": [
    "### dsldLinear, dsldLogit, dsldML examples \n",
    "\n",
    "### data preprocessing\n",
    "\n",
    "### all dsldPy functions require a R data frame object as input (NOT pandas dataframe)\n",
    "### the preprocessing is done by the function preprocess_data\n",
    "### user needs to manually provide the categorical and numerical features (list)\n",
    "### the function preprocess_data returns a R data.frame object -> required input for the dsldPy functions\n",
    "\n",
    "# svcensus data\n",
    "# Replace with your own path to the svcensus.RData file\n",
    "# df = read_data(\"\")\n",
    "\n",
    "# preprocess data\n",
    "cat_features = ['educ', 'occ', 'gender']\n",
    "num_features= ['age', 'wageinc', 'wkswrkd']\n",
    "svcensus = preprocess_data(df, cat_features, num_features)\n",
    "\n",
    "df_10 = df.head(2)\n",
    "df_10 = df_10[['age', 'educ', 'occ', 'wkswrkd']]\n",
    "cat_features = ['educ', 'occ']\n",
    "num_features = ['age','wkswrkd']\n",
    "svcensus_comparisons_points = preprocess_data(df_10, cat_features, num_features)\n",
    "\n",
    "# compas1 data\n",
    "# Replace with your own path to the compas1.RData file\n",
    "# df = read_data(\"\")\n",
    "\n",
    "# preprocess data\n",
    "cat_features = [\"sex\", \"two_year_recid\", \"race\"]\n",
    "num_features = [\"age\",\"juv_fel_count\",\"decile_score\",\"juv_misd_count\",\"juv_other_count\",\"priors_count\",\"c_jail_in\",\"c_jail_out\",\"c_offense_date\",\"screening_date\",\"in_custody\",\"out_custody\"]\n",
    "compas1 = preprocess_data(df, cat_features, num_features)\n",
    "\n",
    "df_10 = df.head(2)\n",
    "df_10 = df_10[[\"sex\", \"age\",\"juv_fel_count\",\"decile_score\",\"juv_misd_count\",\"juv_other_count\",\"priors_count\",\"c_jail_in\",\"c_jail_out\",\"c_offense_date\",\"screening_date\",\"in_custody\",\"out_custody\"]]\n",
    "cat_features = [\"sex\"]\n",
    "num_features = [\"age\",\"juv_fel_count\",\"decile_score\",\"juv_misd_count\",\"juv_other_count\",\"priors_count\",\"c_jail_in\",\"c_jail_out\",\"c_offense_date\",\"screening_date\",\"in_custody\",\"out_custody\"]\n",
    "compas1_comparisons_points = preprocess_data(df_10, cat_features, num_features)"
   ]
  },
  {
   "cell_type": "code",
   "execution_count": null,
   "id": "ddfb760f",
   "metadata": {},
   "outputs": [],
   "source": [
    "### 1. ------------------------------ dsldPyLinear/dsldPyLogit/dsldPyML ------------------------------\n",
    "\n",
    "## dsldPyLinear - interactions = True\n",
    "a = dsldPyLinear(data = svcensus, yName = 'wageinc', sName = 'gender', interactions = True)\n",
    "\n",
    "### the object a is a list of R objects --- can be accessed using the following functions \n",
    "### note that directly looking at 'a' might not be helpful --- use the following functions to access the results and use in python\n",
    "\n",
    "# uncomment to see the results of the functions\n",
    "# dsldPyLinearSummary(a)   \n",
    "# dsldPyLinearCoef(a)\n",
    "# dsldPyLinearVcov(a)\n",
    "# dsldPyLinearGetData(a)\n",
    "\n",
    "# predict()\n",
    "preds = dsldPyLinearPredict(a, svcensus_comparisons_points)\n",
    "preds\n",
    "\n",
    "### can also work with interactions = False as well\n",
    "a2 = dsldPyLinear(data = svcensus, yName = 'wageinc', sName = 'gender', interactions = False)\n",
    "\n",
    "# dsldPyLinearSummary(a2)   \n",
    "# dsldPyLinearCoef(a2)\n",
    "# dsldPyLinearVcov(a2)\n",
    "# dsldPyLinearGetData(a2)\n",
    "\n",
    "## the predict() method requires newData to include S (which is not done)"
   ]
  },
  {
   "cell_type": "code",
   "execution_count": null,
   "id": "70d2ed58",
   "metadata": {},
   "outputs": [],
   "source": [
    "# dsldPyLogit - interactions = True\n",
    "\n",
    "b = dsldPyLogit(data = compas1, yName = 'two_year_recid', sName = 'race', interactions = True, yesYVal = \"Yes\")\n",
    "\n",
    "### the object b is a list of R objects --- can be accessed using the following functions \n",
    "### note that directly looking at 'b' might not be helpful --- use the following functions to access the results and use in python\n",
    "\n",
    "# uncomment to see the results of the functions\n",
    "# dsldPyLogitSummary(b)\n",
    "# dsldPyLogitCoef(b)\n",
    "# dsldPyLogitVcov(b)\n",
    "# dsldPyLogitGetData(b)\n",
    "\n",
    "# predict()\n",
    "preds = dsldPyLogitPredict(b, compas1_comparisons_points)\n",
    "preds\n",
    "\n",
    "### can also work with interactions = False as well\n",
    "b2 = dsldPyLogit(data = compas1, yName = 'two_year_recid', sName = 'race', interactions = False, yesYVal = \"Yes\")\n",
    "\n",
    "# dsldPyLogitSummary(b2)\n",
    "# dsldPyLogitCoef(b2)\n",
    "# dsldPyLogitVcov(b2)\n",
    "# dsldPyLogitGetData(b2)"
   ]
  },
  {
   "cell_type": "code",
   "execution_count": null,
   "id": "395702ad",
   "metadata": {},
   "outputs": [],
   "source": [
    "## dsldPyML - returns testAcc for each sLevel and dataframe (excluding yName and sName) of predictions\n",
    "### works for several qeML functions as far as I've tried\n",
    "c = dsldPyML(data = svcensus, yName = 'wageinc', sName = 'gender', qeMLftnName = 'qeKNN',sComparisonPts='rand5')\n",
    "print(c)"
   ]
  },
  {
   "cell_type": "code",
   "execution_count": null,
   "id": "ea67194c",
   "metadata": {},
   "outputs": [],
   "source": [
    "### 2. ------------------------------ dsldTakeALookAround ------------------------------\n",
    "dsldPyTakeALookAround(data = svcensus, yName = 'wageinc', sName = 'gender', maxFeatureSize = 4)   "
   ]
  },
  {
   "cell_type": "code",
   "execution_count": null,
   "id": "db089aa9",
   "metadata": {},
   "outputs": [],
   "source": [
    "### 3. ------------------------------ dsldHunting ------------------------------\n",
    "\n",
    "# dsldPyCHunting - C-Hunting\n",
    "a = dsldPyCHunting(data = svcensus, yName = 'wageinc',sName = 'gender')\n",
    "\n",
    "# # dsldPyOHunting - O-Hunting\n",
    "b = dsldPyOHunting(data = svcensus, yName = 'wageinc', sName = 'gender')"
   ]
  },
  {
   "cell_type": "code",
   "execution_count": null,
   "id": "22d1a166",
   "metadata": {},
   "outputs": [],
   "source": [
    "print(a)"
   ]
  },
  {
   "cell_type": "code",
   "execution_count": null,
   "id": "cad52d06",
   "metadata": {},
   "outputs": [],
   "source": [
    "print(b)"
   ]
  },
  {
   "cell_type": "code",
   "execution_count": null,
   "id": "32ab71e2",
   "metadata": {},
   "outputs": [],
   "source": [
    "### 4. ------------------------------ dsldFrequencybyS ------------------------------\n",
    "dsldPyFrequencybyS(data = svcensus, cName = 'educ', sName= 'gender')"
   ]
  },
  {
   "cell_type": "code",
   "execution_count": null,
   "id": "99ef6117",
   "metadata": {},
   "outputs": [],
   "source": [
    "### 5. ------------------------------ dsldMatchedAte ------------------------------\n",
    "dsldPyMatchedATE(data = compas1, yName='two_year_recid', sName='race', yesSVal='Caucasian')"
   ]
  },
  {
   "cell_type": "code",
   "execution_count": null,
   "id": "f483cd46",
   "metadata": {},
   "outputs": [],
   "source": []
  }
 ],
 "metadata": {
  "kernelspec": {
   "display_name": "dsld",
   "language": "python",
   "name": "python3"
  },
  "language_info": {
   "codemirror_mode": {
    "name": "ipython",
    "version": 3
   },
   "file_extension": ".py",
   "mimetype": "text/x-python",
   "name": "python",
   "nbconvert_exporter": "python",
   "pygments_lexer": "ipython3",
   "version": "3.12.11"
  }
 },
 "nbformat": 4,
 "nbformat_minor": 5
}
